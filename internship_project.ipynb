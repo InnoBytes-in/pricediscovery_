{
 "cells": [
  {
   "cell_type": "code",
   "execution_count": 2,
   "id": "da0e379d",
   "metadata": {},
   "outputs": [],
   "source": [
    "import pandas as pd"
   ]
  },
  {
   "cell_type": "code",
   "execution_count": 47,
   "id": "f4fd226f",
   "metadata": {},
   "outputs": [],
   "source": [
    "df1=pd.read_csv(\"agrodata.csv\")"
   ]
  },
  {
   "cell_type": "code",
   "execution_count": 48,
   "id": "00a6fd9a",
   "metadata": {},
   "outputs": [
    {
     "data": {
      "text/html": [
       "<div>\n",
       "<style scoped>\n",
       "    .dataframe tbody tr th:only-of-type {\n",
       "        vertical-align: middle;\n",
       "    }\n",
       "\n",
       "    .dataframe tbody tr th {\n",
       "        vertical-align: top;\n",
       "    }\n",
       "\n",
       "    .dataframe thead th {\n",
       "        text-align: right;\n",
       "    }\n",
       "</style>\n",
       "<table border=\"1\" class=\"dataframe\">\n",
       "  <thead>\n",
       "    <tr style=\"text-align: right;\">\n",
       "      <th></th>\n",
       "      <th>commodity_name</th>\n",
       "      <th>state</th>\n",
       "      <th>district</th>\n",
       "      <th>market</th>\n",
       "      <th>min_price</th>\n",
       "      <th>max_price</th>\n",
       "      <th>modal_price</th>\n",
       "      <th>Unnamed: 7</th>\n",
       "    </tr>\n",
       "  </thead>\n",
       "  <tbody>\n",
       "    <tr>\n",
       "      <th>0</th>\n",
       "      <td>Ajwan</td>\n",
       "      <td>Gujarat</td>\n",
       "      <td>Amreli</td>\n",
       "      <td>Amreli</td>\n",
       "      <td>63.25</td>\n",
       "      <td>79.55</td>\n",
       "      <td>79.55</td>\n",
       "      <td>NaN</td>\n",
       "    </tr>\n",
       "    <tr>\n",
       "      <th>1</th>\n",
       "      <td>Ajwan</td>\n",
       "      <td>Gujarat</td>\n",
       "      <td>Banaskanth</td>\n",
       "      <td>Dhanera</td>\n",
       "      <td>80.05</td>\n",
       "      <td>80.05</td>\n",
       "      <td>80.05</td>\n",
       "      <td>NaN</td>\n",
       "    </tr>\n",
       "    <tr>\n",
       "      <th>2</th>\n",
       "      <td>Ajwan</td>\n",
       "      <td>Gujarat</td>\n",
       "      <td>Jamnagar</td>\n",
       "      <td>Jamnagar</td>\n",
       "      <td>90.00</td>\n",
       "      <td>155.00</td>\n",
       "      <td>122.50</td>\n",
       "      <td>NaN</td>\n",
       "    </tr>\n",
       "    <tr>\n",
       "      <th>3</th>\n",
       "      <td>Ajwan</td>\n",
       "      <td>Gujarat</td>\n",
       "      <td>Mehsana</td>\n",
       "      <td>Kadi</td>\n",
       "      <td>94.50</td>\n",
       "      <td>112.50</td>\n",
       "      <td>107.00</td>\n",
       "      <td>NaN</td>\n",
       "    </tr>\n",
       "    <tr>\n",
       "      <th>4</th>\n",
       "      <td>Ajwan</td>\n",
       "      <td>Gujarat</td>\n",
       "      <td>Mehsana</td>\n",
       "      <td>Unjha</td>\n",
       "      <td>21.25</td>\n",
       "      <td>148.50</td>\n",
       "      <td>99.75</td>\n",
       "      <td>NaN</td>\n",
       "    </tr>\n",
       "  </tbody>\n",
       "</table>\n",
       "</div>"
      ],
      "text/plain": [
       "  commodity_name    state    district    market  min_price  max_price  \\\n",
       "0          Ajwan  Gujarat      Amreli    Amreli      63.25      79.55   \n",
       "1          Ajwan  Gujarat  Banaskanth   Dhanera      80.05      80.05   \n",
       "2          Ajwan  Gujarat    Jamnagar  Jamnagar      90.00     155.00   \n",
       "3          Ajwan  Gujarat     Mehsana      Kadi      94.50     112.50   \n",
       "4          Ajwan  Gujarat     Mehsana     Unjha      21.25     148.50   \n",
       "\n",
       "   modal_price  Unnamed: 7  \n",
       "0        79.55         NaN  \n",
       "1        80.05         NaN  \n",
       "2       122.50         NaN  \n",
       "3       107.00         NaN  \n",
       "4        99.75         NaN  "
      ]
     },
     "execution_count": 48,
     "metadata": {},
     "output_type": "execute_result"
    }
   ],
   "source": [
    "df1.head()"
   ]
  },
  {
   "cell_type": "markdown",
   "id": "1b9f3359",
   "metadata": {},
   "source": [
    "### as per problem statement we have to predict the modal_price on the basis of commodity_name and state"
   ]
  },
  {
   "cell_type": "code",
   "execution_count": 49,
   "id": "5a2e8be5",
   "metadata": {},
   "outputs": [],
   "source": [
    "nd=df1[['commodity_name','state','modal_price']]"
   ]
  },
  {
   "cell_type": "code",
   "execution_count": 50,
   "id": "86bf3a37",
   "metadata": {},
   "outputs": [
    {
     "data": {
      "text/html": [
       "<div>\n",
       "<style scoped>\n",
       "    .dataframe tbody tr th:only-of-type {\n",
       "        vertical-align: middle;\n",
       "    }\n",
       "\n",
       "    .dataframe tbody tr th {\n",
       "        vertical-align: top;\n",
       "    }\n",
       "\n",
       "    .dataframe thead th {\n",
       "        text-align: right;\n",
       "    }\n",
       "</style>\n",
       "<table border=\"1\" class=\"dataframe\">\n",
       "  <thead>\n",
       "    <tr style=\"text-align: right;\">\n",
       "      <th></th>\n",
       "      <th>commodity_name</th>\n",
       "      <th>state</th>\n",
       "      <th>modal_price</th>\n",
       "    </tr>\n",
       "  </thead>\n",
       "  <tbody>\n",
       "    <tr>\n",
       "      <th>0</th>\n",
       "      <td>Ajwan</td>\n",
       "      <td>Gujarat</td>\n",
       "      <td>79.55</td>\n",
       "    </tr>\n",
       "    <tr>\n",
       "      <th>1</th>\n",
       "      <td>Ajwan</td>\n",
       "      <td>Gujarat</td>\n",
       "      <td>80.05</td>\n",
       "    </tr>\n",
       "    <tr>\n",
       "      <th>2</th>\n",
       "      <td>Ajwan</td>\n",
       "      <td>Gujarat</td>\n",
       "      <td>122.50</td>\n",
       "    </tr>\n",
       "    <tr>\n",
       "      <th>3</th>\n",
       "      <td>Ajwan</td>\n",
       "      <td>Gujarat</td>\n",
       "      <td>107.00</td>\n",
       "    </tr>\n",
       "    <tr>\n",
       "      <th>4</th>\n",
       "      <td>Ajwan</td>\n",
       "      <td>Gujarat</td>\n",
       "      <td>99.75</td>\n",
       "    </tr>\n",
       "  </tbody>\n",
       "</table>\n",
       "</div>"
      ],
      "text/plain": [
       "  commodity_name    state  modal_price\n",
       "0          Ajwan  Gujarat        79.55\n",
       "1          Ajwan  Gujarat        80.05\n",
       "2          Ajwan  Gujarat       122.50\n",
       "3          Ajwan  Gujarat       107.00\n",
       "4          Ajwan  Gujarat        99.75"
      ]
     },
     "execution_count": 50,
     "metadata": {},
     "output_type": "execute_result"
    }
   ],
   "source": [
    "nd.head()"
   ]
  },
  {
   "cell_type": "code",
   "execution_count": 51,
   "id": "f7ea8ee9",
   "metadata": {},
   "outputs": [],
   "source": [
    "## Feature Engineering"
   ]
  },
  {
   "cell_type": "code",
   "execution_count": 52,
   "id": "c732bb56",
   "metadata": {},
   "outputs": [],
   "source": [
    "import seaborn as sns"
   ]
  },
  {
   "cell_type": "code",
   "execution_count": 53,
   "id": "dd6ee224",
   "metadata": {},
   "outputs": [
    {
     "data": {
      "text/plain": [
       "<Axes: >"
      ]
     },
     "execution_count": 53,
     "metadata": {},
     "output_type": "execute_result"
    },
    {
     "data": {
      "image/png": "[encoded data removed]",
      "text/plain": [
       "<Figure size 640x480 with 1 Axes>"
      ]
     },
     "metadata": {},
     "output_type": "display_data"
    }
   ],
   "source": [
    "sns.boxplot(df1['modal_price'])"
   ]
  },
  {
   "cell_type": "code",
   "execution_count": 54,
   "id": "9103c921",
   "metadata": {},
   "outputs": [],
   "source": [
    "import matplotlib.pyplot as plt"
   ]
  },
  {
   "cell_type": "code",
   "execution_count": 55,
   "id": "a379484c",
   "metadata": {},
   "outputs": [
    {
     "data": {
      "image/png": "[encoded data removed]",
      "text/plain": [
       "<Figure size 640x480 with 1 Axes>"
      ]
     },
     "metadata": {},
     "output_type": "display_data"
    }
   ],
   "source": [
    "nd.state.value_counts().plot(kind='bar')\n",
    "plt.xlabel('state')\n",
    "plt.ylabel('modal_price')\n",
    "plt.show()"
   ]
  },
  {
   "cell_type": "code",
   "execution_count": 56,
   "id": "6c553f17",
   "metadata": {},
   "outputs": [
    {
     "data": {
      "text/plain": [
       "250"
      ]
     },
     "execution_count": 56,
     "metadata": {},
     "output_type": "execute_result"
    }
   ],
   "source": [
    "len(nd['commodity_name'].unique())"
   ]
  },
  {
   "cell_type": "markdown",
   "id": "12a2cd13",
   "metadata": {},
   "source": [
    "#### insight: there are 250 commodities  present in the dataset"
   ]
  },
  {
   "cell_type": "code",
   "execution_count": 57,
   "id": "841c8979",
   "metadata": {},
   "outputs": [
    {
     "data": {
      "text/plain": [
       "30"
      ]
     },
     "execution_count": 57,
     "metadata": {},
     "output_type": "execute_result"
    }
   ],
   "source": [
    "len(nd['state'].unique())"
   ]
  },
  {
   "cell_type": "markdown",
   "id": "66d591b8",
   "metadata": {},
   "source": [
    "#### insight: there are 30 states  present in the dataset"
   ]
  },
  {
   "cell_type": "code",
   "execution_count": 58,
   "id": "094cb199",
   "metadata": {},
   "outputs": [
    {
     "data": {
      "text/plain": [
       "66000.0"
      ]
     },
     "execution_count": 58,
     "metadata": {},
     "output_type": "execute_result"
    }
   ],
   "source": [
    "max(nd['modal_price'])"
   ]
  },
  {
   "cell_type": "code",
   "execution_count": null,
   "id": "e935c8b9",
   "metadata": {},
   "outputs": [],
   "source": []
  },
  {
   "cell_type": "code",
   "execution_count": 61,
   "id": "d30e96b3",
   "metadata": {},
   "outputs": [
    {
     "data": {
      "text/plain": [
       "commodity_name    0\n",
       "state             0\n",
       "modal_price       1\n",
       "dtype: int64"
      ]
     },
     "execution_count": 61,
     "metadata": {},
     "output_type": "execute_result"
    }
   ],
   "source": [
    "nd.isna().sum()"
   ]
  },
  {
   "cell_type": "code",
   "execution_count": 63,
   "id": "8be7a7e1",
   "metadata": {},
   "outputs": [
    {
     "name": "stderr",
     "output_type": "stream",
     "text": [
      "C:\\Users\\91957\\AppData\\Local\\Temp\\ipykernel_2156\\1029660640.py:1: SettingWithCopyWarning: \n",
      "A value is trying to be set on a copy of a slice from a DataFrame\n",
      "\n",
      "See the caveats in the documentation: https://pandas.pydata.org/pandas-docs/stable/user_guide/indexing.html#returning-a-view-versus-a-copy\n",
      "  nd.dropna(inplace=True)\n"
     ]
    }
   ],
   "source": [
    "nd.dropna(inplace=True)"
   ]
  },
  {
   "cell_type": "code",
   "execution_count": 65,
   "id": "1028c402",
   "metadata": {},
   "outputs": [
    {
     "data": {
      "text/html": [
       "<div>\n",
       "<style scoped>\n",
       "    .dataframe tbody tr th:only-of-type {\n",
       "        vertical-align: middle;\n",
       "    }\n",
       "\n",
       "    .dataframe tbody tr th {\n",
       "        vertical-align: top;\n",
       "    }\n",
       "\n",
       "    .dataframe thead th {\n",
       "        text-align: right;\n",
       "    }\n",
       "</style>\n",
       "<table border=\"1\" class=\"dataframe\">\n",
       "  <thead>\n",
       "    <tr style=\"text-align: right;\">\n",
       "      <th></th>\n",
       "      <th>commodity_name</th>\n",
       "      <th>state</th>\n",
       "      <th>modal_price</th>\n",
       "    </tr>\n",
       "  </thead>\n",
       "  <tbody>\n",
       "    <tr>\n",
       "      <th>0</th>\n",
       "      <td>Ajwan</td>\n",
       "      <td>Gujarat</td>\n",
       "      <td>79.55</td>\n",
       "    </tr>\n",
       "    <tr>\n",
       "      <th>1</th>\n",
       "      <td>Ajwan</td>\n",
       "      <td>Gujarat</td>\n",
       "      <td>80.05</td>\n",
       "    </tr>\n",
       "    <tr>\n",
       "      <th>2</th>\n",
       "      <td>Ajwan</td>\n",
       "      <td>Gujarat</td>\n",
       "      <td>122.50</td>\n",
       "    </tr>\n",
       "    <tr>\n",
       "      <th>3</th>\n",
       "      <td>Ajwan</td>\n",
       "      <td>Gujarat</td>\n",
       "      <td>107.00</td>\n",
       "    </tr>\n",
       "    <tr>\n",
       "      <th>4</th>\n",
       "      <td>Ajwan</td>\n",
       "      <td>Gujarat</td>\n",
       "      <td>99.75</td>\n",
       "    </tr>\n",
       "    <tr>\n",
       "      <th>...</th>\n",
       "      <td>...</td>\n",
       "      <td>...</td>\n",
       "      <td>...</td>\n",
       "    </tr>\n",
       "    <tr>\n",
       "      <th>836972</th>\n",
       "      <td>Arhar (Tur/Red Gram)(Whole)</td>\n",
       "      <td>Gujarat</td>\n",
       "      <td>5300.00</td>\n",
       "    </tr>\n",
       "    <tr>\n",
       "      <th>836973</th>\n",
       "      <td>Arhar (Tur/Red Gram)(Whole)</td>\n",
       "      <td>Gujarat</td>\n",
       "      <td>5000.00</td>\n",
       "    </tr>\n",
       "    <tr>\n",
       "      <th>836974</th>\n",
       "      <td>Arhar (Tur/Red Gram)(Whole)</td>\n",
       "      <td>Gujarat</td>\n",
       "      <td>5650.00</td>\n",
       "    </tr>\n",
       "    <tr>\n",
       "      <th>836975</th>\n",
       "      <td>Arhar (Tur/Red Gram)(Whole)</td>\n",
       "      <td>Gujarat</td>\n",
       "      <td>5250.00</td>\n",
       "    </tr>\n",
       "    <tr>\n",
       "      <th>836976</th>\n",
       "      <td>Arhar (Tur/Red Gram)(Whole)</td>\n",
       "      <td>Kerala</td>\n",
       "      <td>11000.00</td>\n",
       "    </tr>\n",
       "  </tbody>\n",
       "</table>\n",
       "<p>836976 rows × 3 columns</p>\n",
       "</div>"
      ],
      "text/plain": [
       "                     commodity_name    state  modal_price\n",
       "0                             Ajwan  Gujarat        79.55\n",
       "1                             Ajwan  Gujarat        80.05\n",
       "2                             Ajwan  Gujarat       122.50\n",
       "3                             Ajwan  Gujarat       107.00\n",
       "4                             Ajwan  Gujarat        99.75\n",
       "...                             ...      ...          ...\n",
       "836972  Arhar (Tur/Red Gram)(Whole)  Gujarat      5300.00\n",
       "836973  Arhar (Tur/Red Gram)(Whole)  Gujarat      5000.00\n",
       "836974  Arhar (Tur/Red Gram)(Whole)  Gujarat      5650.00\n",
       "836975  Arhar (Tur/Red Gram)(Whole)  Gujarat      5250.00\n",
       "836976  Arhar (Tur/Red Gram)(Whole)   Kerala     11000.00\n",
       "\n",
       "[836976 rows x 3 columns]"
      ]
     },
     "execution_count": 65,
     "metadata": {},
     "output_type": "execute_result"
    }
   ],
   "source": [
    "nd"
   ]
  },
  {
   "cell_type": "code",
   "execution_count": 73,
   "id": "d415b89b",
   "metadata": {},
   "outputs": [],
   "source": [
    "from scipy.stats import spearmanr"
   ]
  },
  {
   "cell_type": "code",
   "execution_count": 75,
   "id": "5bc6b645",
   "metadata": {},
   "outputs": [
    {
     "name": "stdout",
     "output_type": "stream",
     "text": [
      "Spearman correlation coefficient: -0.16754597824118383\n",
      "P-value: 0.0\n"
     ]
    }
   ],
   "source": [
    "cor, p_value = spearmanr(nd['state'], nd['modal_price'])\n",
    "\n",
    "print('Spearman correlation coefficient:', cor)\n",
    "print('P-value:', p_value)"
   ]
  },
  {
   "cell_type": "code",
   "execution_count": 76,
   "id": "544d7aa7",
   "metadata": {},
   "outputs": [
    {
     "name": "stdout",
     "output_type": "stream",
     "text": [
      "Spearman correlation coefficient: -0.1738085737289172\n",
      "P-value: 0.0\n"
     ]
    }
   ],
   "source": [
    "cor, p_value = spearmanr(nd['commodity_name'], nd['modal_price'])\n",
    "\n",
    "print('Spearman correlation coefficient:', cor)\n",
    "print('P-value:', p_value)"
   ]
  },
  {
   "cell_type": "code",
   "execution_count": 66,
   "id": "6c083216",
   "metadata": {},
   "outputs": [],
   "source": [
    "# model training"
   ]
  },
  {
   "cell_type": "code",
   "execution_count": 67,
   "id": "06df234c",
   "metadata": {},
   "outputs": [],
   "source": [
    "from sklearn.model_selection import train_test_split"
   ]
  },
  {
   "cell_type": "code",
   "execution_count": 68,
   "id": "ed1484cb",
   "metadata": {},
   "outputs": [
    {
     "data": {
      "text/html": [
       "<div>\n",
       "<style scoped>\n",
       "    .dataframe tbody tr th:only-of-type {\n",
       "        vertical-align: middle;\n",
       "    }\n",
       "\n",
       "    .dataframe tbody tr th {\n",
       "        vertical-align: top;\n",
       "    }\n",
       "\n",
       "    .dataframe thead th {\n",
       "        text-align: right;\n",
       "    }\n",
       "</style>\n",
       "<table border=\"1\" class=\"dataframe\">\n",
       "  <thead>\n",
       "    <tr style=\"text-align: right;\">\n",
       "      <th></th>\n",
       "      <th>commodity_name</th>\n",
       "      <th>state</th>\n",
       "    </tr>\n",
       "  </thead>\n",
       "  <tbody>\n",
       "    <tr>\n",
       "      <th>0</th>\n",
       "      <td>Ajwan</td>\n",
       "      <td>Gujarat</td>\n",
       "    </tr>\n",
       "    <tr>\n",
       "      <th>1</th>\n",
       "      <td>Ajwan</td>\n",
       "      <td>Gujarat</td>\n",
       "    </tr>\n",
       "    <tr>\n",
       "      <th>2</th>\n",
       "      <td>Ajwan</td>\n",
       "      <td>Gujarat</td>\n",
       "    </tr>\n",
       "    <tr>\n",
       "      <th>3</th>\n",
       "      <td>Ajwan</td>\n",
       "      <td>Gujarat</td>\n",
       "    </tr>\n",
       "    <tr>\n",
       "      <th>4</th>\n",
       "      <td>Ajwan</td>\n",
       "      <td>Gujarat</td>\n",
       "    </tr>\n",
       "    <tr>\n",
       "      <th>...</th>\n",
       "      <td>...</td>\n",
       "      <td>...</td>\n",
       "    </tr>\n",
       "    <tr>\n",
       "      <th>836972</th>\n",
       "      <td>Arhar (Tur/Red Gram)(Whole)</td>\n",
       "      <td>Gujarat</td>\n",
       "    </tr>\n",
       "    <tr>\n",
       "      <th>836973</th>\n",
       "      <td>Arhar (Tur/Red Gram)(Whole)</td>\n",
       "      <td>Gujarat</td>\n",
       "    </tr>\n",
       "    <tr>\n",
       "      <th>836974</th>\n",
       "      <td>Arhar (Tur/Red Gram)(Whole)</td>\n",
       "      <td>Gujarat</td>\n",
       "    </tr>\n",
       "    <tr>\n",
       "      <th>836975</th>\n",
       "      <td>Arhar (Tur/Red Gram)(Whole)</td>\n",
       "      <td>Gujarat</td>\n",
       "    </tr>\n",
       "    <tr>\n",
       "      <th>836976</th>\n",
       "      <td>Arhar (Tur/Red Gram)(Whole)</td>\n",
       "      <td>Kerala</td>\n",
       "    </tr>\n",
       "  </tbody>\n",
       "</table>\n",
       "<p>836976 rows × 2 columns</p>\n",
       "</div>"
      ],
      "text/plain": [
       "                     commodity_name    state\n",
       "0                             Ajwan  Gujarat\n",
       "1                             Ajwan  Gujarat\n",
       "2                             Ajwan  Gujarat\n",
       "3                             Ajwan  Gujarat\n",
       "4                             Ajwan  Gujarat\n",
       "...                             ...      ...\n",
       "836972  Arhar (Tur/Red Gram)(Whole)  Gujarat\n",
       "836973  Arhar (Tur/Red Gram)(Whole)  Gujarat\n",
       "836974  Arhar (Tur/Red Gram)(Whole)  Gujarat\n",
       "836975  Arhar (Tur/Red Gram)(Whole)  Gujarat\n",
       "836976  Arhar (Tur/Red Gram)(Whole)   Kerala\n",
       "\n",
       "[836976 rows x 2 columns]"
      ]
     },
     "execution_count": 68,
     "metadata": {},
     "output_type": "execute_result"
    }
   ],
   "source": [
    "x=nd.iloc[:,:-1]\n",
    "x"
   ]
  },
  {
   "cell_type": "code",
   "execution_count": 70,
   "id": "653deb79",
   "metadata": {},
   "outputs": [
    {
     "data": {
      "text/plain": [
       "0            79.55\n",
       "1            80.05\n",
       "2           122.50\n",
       "3           107.00\n",
       "4            99.75\n",
       "            ...   \n",
       "836972     5300.00\n",
       "836973     5000.00\n",
       "836974     5650.00\n",
       "836975     5250.00\n",
       "836976    11000.00\n",
       "Name: modal_price, Length: 836976, dtype: float64"
      ]
     },
     "execution_count": 70,
     "metadata": {},
     "output_type": "execute_result"
    }
   ],
   "source": [
    "y=nd.iloc[:,-1]\n",
    "y"
   ]
  },
  {
   "cell_type": "code",
   "execution_count": 71,
   "id": "845c7157",
   "metadata": {},
   "outputs": [],
   "source": [
    "x_train,x_test,y_train,y_test=train_test_split(x,y,test_size=0.25,random_state=42)"
   ]
  },
  {
   "cell_type": "code",
   "execution_count": 72,
   "id": "97e6a6f2",
   "metadata": {},
   "outputs": [
    {
     "data": {
      "text/plain": [
       "((627732, 2), (209244, 2))"
      ]
     },
     "execution_count": 72,
     "metadata": {},
     "output_type": "execute_result"
    }
   ],
   "source": [
    "x_train.shape,x_test.shape"
   ]
  },
  {
   "cell_type": "code",
   "execution_count": 77,
   "id": "2d627218",
   "metadata": {},
   "outputs": [],
   "source": [
    "from sklearn.preprocessing import OneHotEncoder"
   ]
  },
  {
   "cell_type": "code",
   "execution_count": 79,
   "id": "ab8adac5",
   "metadata": {},
   "outputs": [],
   "source": [
    "# One-hot encode the categorical independent variable\n",
    "encoder = OneHotEncoder()\n",
    "x_train_encoded = encoder.fit_transform(x_train[[\"commodity_name\",\"state\"]])"
   ]
  },
  {
   "cell_type": "code",
   "execution_count": 80,
   "id": "4407daa1",
   "metadata": {},
   "outputs": [],
   "source": [
    "x_test_encoded = encoder.transform(x_test[[\"commodity_name\",\"state\"]])"
   ]
  },
  {
   "cell_type": "code",
   "execution_count": 81,
   "id": "7bb8fe3c",
   "metadata": {},
   "outputs": [
    {
     "data": {
      "text/html": [
       "<style>#sk-container-id-1 {color: black;background-color: white;}#sk-container-id-1 pre{padding: 0;}#sk-container-id-1 div.sk-toggleable {background-color: white;}#sk-container-id-1 label.sk-toggleable__label {cursor: pointer;display: block;width: 100%;margin-bottom: 0;padding: 0.3em;box-sizing: border-box;text-align: center;}#sk-container-id-1 label.sk-toggleable__label-arrow:before {content: \"▸\";float: left;margin-right: 0.25em;color: #696969;}#sk-container-id-1 label.sk-toggleable__label-arrow:hover:before {color: black;}#sk-container-id-1 div.sk-estimator:hover label.sk-toggleable__label-arrow:before {color: black;}#sk-container-id-1 div.sk-toggleable__content {max-height: 0;max-width: 0;overflow: hidden;text-align: left;background-color: #f0f8ff;}#sk-container-id-1 div.sk-toggleable__content pre {margin: 0.2em;color: black;border-radius: 0.25em;background-color: #f0f8ff;}#sk-container-id-1 input.sk-toggleable__control:checked~div.sk-toggleable__content {max-height: 200px;max-width: 100%;overflow: auto;}#sk-container-id-1 input.sk-toggleable__control:checked~label.sk-toggleable__label-arrow:before {content: \"▾\";}#sk-container-id-1 div.sk-estimator input.sk-toggleable__control:checked~label.sk-toggleable__label {background-color: #d4ebff;}#sk-container-id-1 div.sk-label input.sk-toggleable__control:checked~label.sk-toggleable__label {background-color: #d4ebff;}#sk-container-id-1 input.sk-hidden--visually {border: 0;clip: rect(1px 1px 1px 1px);clip: rect(1px, 1px, 1px, 1px);height: 1px;margin: -1px;overflow: hidden;padding: 0;position: absolute;width: 1px;}#sk-container-id-1 div.sk-estimator {font-family: monospace;background-color: #f0f8ff;border: 1px dotted black;border-radius: 0.25em;box-sizing: border-box;margin-bottom: 0.5em;}#sk-container-id-1 div.sk-estimator:hover {background-color: #d4ebff;}#sk-container-id-1 div.sk-parallel-item::after {content: \"\";width: 100%;border-bottom: 1px solid gray;flex-grow: 1;}#sk-container-id-1 div.sk-label:hover label.sk-toggleable__label {background-color: #d4ebff;}#sk-container-id-1 div.sk-serial::before {content: \"\";position: absolute;border-left: 1px solid gray;box-sizing: border-box;top: 0;bottom: 0;left: 50%;z-index: 0;}#sk-container-id-1 div.sk-serial {display: flex;flex-direction: column;align-items: center;background-color: white;padding-right: 0.2em;padding-left: 0.2em;position: relative;}#sk-container-id-1 div.sk-item {position: relative;z-index: 1;}#sk-container-id-1 div.sk-parallel {display: flex;align-items: stretch;justify-content: center;background-color: white;position: relative;}#sk-container-id-1 div.sk-item::before, #sk-container-id-1 div.sk-parallel-item::before {content: \"\";position: absolute;border-left: 1px solid gray;box-sizing: border-box;top: 0;bottom: 0;left: 50%;z-index: -1;}#sk-container-id-1 div.sk-parallel-item {display: flex;flex-direction: column;z-index: 1;position: relative;background-color: white;}#sk-container-id-1 div.sk-parallel-item:first-child::after {align-self: flex-end;width: 50%;}#sk-container-id-1 div.sk-parallel-item:last-child::after {align-self: flex-start;width: 50%;}#sk-container-id-1 div.sk-parallel-item:only-child::after {width: 0;}#sk-container-id-1 div.sk-dashed-wrapped {border: 1px dashed gray;margin: 0 0.4em 0.5em 0.4em;box-sizing: border-box;padding-bottom: 0.4em;background-color: white;}#sk-container-id-1 div.sk-label label {font-family: monospace;font-weight: bold;display: inline-block;line-height: 1.2em;}#sk-container-id-1 div.sk-label-container {text-align: center;}#sk-container-id-1 div.sk-container {/* jupyter's `normalize.less` sets `[hidden] { display: none; }` but bootstrap.min.css set `[hidden] { display: none !important; }` so we also need the `!important` here to be able to override the default hidden behavior on the sphinx rendered scikit-learn.org. See: https://github.com/scikit-learn/scikit-learn/issues/21755 */display: inline-block !important;position: relative;}#sk-container-id-1 div.sk-text-repr-fallback {display: none;}</style><div id=\"sk-container-id-1\" class=\"sk-top-container\"><div class=\"sk-text-repr-fallback\"><pre>LinearRegression()</pre><b>In a Jupyter environment, please rerun this cell to show the HTML representation or trust the notebook. <br />On GitHub, the HTML representation is unable to render, please try loading this page with nbviewer.org.</b></div><div class=\"sk-container\" hidden><div class=\"sk-item\"><div class=\"sk-estimator sk-toggleable\"><input class=\"sk-toggleable__control sk-hidden--visually\" id=\"sk-estimator-id-1\" type=\"checkbox\" checked><label for=\"sk-estimator-id-1\" class=\"sk-toggleable__label sk-toggleable__label-arrow\">LinearRegression</label><div class=\"sk-toggleable__content\"><pre>LinearRegression()</pre></div></div></div></div></div>"
      ],
      "text/plain": [
       "LinearRegression()"
      ]
     },
     "execution_count": 81,
     "metadata": {},
     "output_type": "execute_result"
    }
   ],
   "source": [
    "# Train the model\n",
    "from sklearn.linear_model import LinearRegression\n",
    "model =  LinearRegression()\n",
    "model.fit(x_train_encoded, y_train)"
   ]
  },
  {
   "cell_type": "code",
   "execution_count": 82,
   "id": "ce680167",
   "metadata": {},
   "outputs": [],
   "source": [
    "y_pred=model.predict(x_test_encoded)"
   ]
  },
  {
   "cell_type": "code",
   "execution_count": 86,
   "id": "4c2c5d82",
   "metadata": {},
   "outputs": [
    {
     "name": "stdout",
     "output_type": "stream",
     "text": [
      "Score: 0.46325564521397855\n"
     ]
    }
   ],
   "source": [
    "# Evaluate the model\n",
    "from sklearn.metrics import r2_score\n",
    "score = r2_score(y_test,y_pred)\n",
    "print(\"Score:\", score)"
   ]
  },
  {
   "cell_type": "code",
   "execution_count": 92,
   "id": "83056bab",
   "metadata": {},
   "outputs": [
    {
     "name": "stdout",
     "output_type": "stream",
     "text": [
      "enter your product name :Arhar (Tur/Red Gram)(Whole)\n",
      "enter your state name :Maharashtra\n"
     ]
    },
    {
     "name": "stderr",
     "output_type": "stream",
     "text": [
      "C:\\Users\\91957\\AppData\\Roaming\\Python\\Python310\\site-packages\\sklearn\\base.py:439: UserWarning: X does not have valid feature names, but OneHotEncoder was fitted with feature names\n",
      "  warnings.warn(\n"
     ]
    }
   ],
   "source": [
    "product_name=input(\"enter your product name :\")\n",
    "state_name=input(\"enter your state name :\")\n",
    "\n",
    "encoded_ip=encoder.transform([[product_name,state_name]]).toarray()\n",
    "# Maharashtra\n",
    "# Soyabean"
   ]
  },
  {
   "cell_type": "code",
   "execution_count": 93,
   "id": "ad9b3a69",
   "metadata": {},
   "outputs": [],
   "source": [
    "prediction=model.predict(encoded_ip)\n"
   ]
  },
  {
   "cell_type": "code",
   "execution_count": 94,
   "id": "e114224f",
   "metadata": {},
   "outputs": [
    {
     "name": "stdout",
     "output_type": "stream",
     "text": [
      "Price of your product is [5808.15063039]\n"
     ]
    }
   ],
   "source": [
    "print(\"Price of your product is {}\".format(prediction))"
   ]
  },
  {
   "cell_type": "code",
   "execution_count": 95,
   "id": "5e85bf2d",
   "metadata": {},
   "outputs": [],
   "source": [
    "import pickle\n",
    "pickle.dump(encoder,open('encoder.pkl','wb'))\n",
    "pickle.dump(model,open('model.pkl','wb'))"
   ]
  },
  {
   "cell_type": "code",
   "execution_count": null,
   "id": "b00201bd",
   "metadata": {},
   "outputs": [],
   "source": []
  },
  {
   "cell_type": "code",
   "execution_count": null,
   "id": "2c8e4188",
   "metadata": {},
   "outputs": [],
   "source": []
  },
  {
   "cell_type": "code",
   "execution_count": null,
   "id": "4486df8d",
   "metadata": {},
   "outputs": [],
   "source": []
  }
 ],
 "metadata": {
  "kernelspec": {
   "display_name": "Python 3 (ipykernel)",
   "language": "python",
   "name": "python3"
  },
  "language_info": {
   "codemirror_mode": {
    "name": "ipython",
    "version": 3
   },
   "file_extension": ".py",
   "mimetype": "text/x-python",
   "name": "python",
   "nbconvert_exporter": "python",
   "pygments_lexer": "ipython3",
   "version": "3.10.7"
  }
 },
 "nbformat": 4,
 "nbformat_minor": 5
}
